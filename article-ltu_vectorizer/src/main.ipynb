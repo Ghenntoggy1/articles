{
 "cells": [
  {
   "cell_type": "code",
   "execution_count": 1,
   "metadata": {
    "collapsed": true
   },
   "outputs": [
    {
     "name": "stdout",
     "output_type": "stream",
     "text": [
      "Requirement already satisfied: molda in c:\\users\\tudor\\anaconda3\\lib\\site-packages (0.1.2)\n",
      "Requirement already satisfied: numpy in c:\\users\\tudor\\anaconda3\\lib\\site-packages (from molda) (1.21.5)\n",
      "Requirement already satisfied: scikit-learn in c:\\users\\tudor\\anaconda3\\lib\\site-packages (from molda) (1.0.2)\n",
      "Requirement already satisfied: scipy in c:\\users\\tudor\\anaconda3\\lib\\site-packages (from molda) (1.9.1)\n",
      "Requirement already satisfied: joblib>=0.11 in c:\\users\\tudor\\anaconda3\\lib\\site-packages (from scikit-learn->molda) (1.1.0)\n",
      "Requirement already satisfied: threadpoolctl>=2.0.0 in c:\\users\\tudor\\anaconda3\\lib\\site-packages (from scikit-learn->molda) (2.2.0)\n",
      "Note: you may need to restart the kernel to use updated packages.\n"
     ]
    }
   ],
   "source": [
    "pip install molda"
   ]
  },
  {
   "cell_type": "code",
   "execution_count": 7,
   "outputs": [],
   "source": [
    "from molda import LTUVectorizer"
   ],
   "metadata": {
    "collapsed": false
   }
  },
  {
   "cell_type": "code",
   "execution_count": 8,
   "outputs": [],
   "source": [
    "document = [\n",
    "    '''I love my dog\n",
    "    and I like pet him.''',\n",
    "    'I love my cat!',\n",
    "    \"I like to pet my cat.\",\n",
    "    \"I enjoy playing with both, cats and dogs.\"\n",
    "]"
   ],
   "metadata": {
    "collapsed": false
   }
  },
  {
   "cell_type": "code",
   "execution_count": 9,
   "outputs": [],
   "source": [
    "vectorizer = LTUVectorizer()\n",
    "sparse_matrix = vectorizer.fit_transform(document)"
   ],
   "metadata": {
    "collapsed": false
   }
  },
  {
   "cell_type": "code",
   "execution_count": 10,
   "outputs": [
    {
     "name": "stdout",
     "output_type": "stream",
     "text": [
      "  (0, 7)\t1.4242701385551153\n",
      "  (0, 11)\t1.122910936582831\n",
      "  (0, 8)\t1.122910936582831\n",
      "  (0, 0)\t1.122910936582831\n",
      "  (0, 4)\t1.4242701385551153\n",
      "  (0, 10)\t0.9090931800308315\n",
      "  (0, 9)\t1.122910936582831\n",
      "  (1, 2)\t1.122910936582831\n",
      "  (1, 10)\t0.9090931800308315\n",
      "  (1, 9)\t1.122910936582831\n",
      "  (2, 13)\t1.4242701385551153\n",
      "  (2, 2)\t1.122910936582831\n",
      "  (2, 11)\t1.122910936582831\n",
      "  (2, 8)\t1.122910936582831\n",
      "  (2, 10)\t0.9090931800308315\n",
      "  (3, 5)\t1.4242701385551153\n",
      "  (3, 3)\t1.4242701385551153\n",
      "  (3, 1)\t1.4242701385551153\n",
      "  (3, 14)\t1.4242701385551153\n",
      "  (3, 12)\t1.4242701385551153\n",
      "  (3, 6)\t1.4242701385551153\n",
      "  (3, 0)\t1.122910936582831\n"
     ]
    }
   ],
   "source": [
    "print(sparse_matrix)"
   ],
   "metadata": {
    "collapsed": false
   }
  },
  {
   "cell_type": "code",
   "execution_count": null,
   "outputs": [],
   "source": [],
   "metadata": {
    "collapsed": false
   }
  }
 ],
 "metadata": {
  "kernelspec": {
   "display_name": "Python 3",
   "language": "python",
   "name": "python3"
  },
  "language_info": {
   "codemirror_mode": {
    "name": "ipython",
    "version": 2
   },
   "file_extension": ".py",
   "mimetype": "text/x-python",
   "name": "python",
   "nbconvert_exporter": "python",
   "pygments_lexer": "ipython2",
   "version": "2.7.6"
  }
 },
 "nbformat": 4,
 "nbformat_minor": 0
}
